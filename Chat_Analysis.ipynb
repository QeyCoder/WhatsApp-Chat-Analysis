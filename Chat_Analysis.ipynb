{
  "nbformat": 4,
  "nbformat_minor": 0,
  "metadata": {
    "colab": {
      "name": "Chat Analysis",
      "provenance": [],
      "collapsed_sections": [],
      "authorship_tag": "ABX9TyPI2R32+c8D8fn+E1rHS15o",
      "include_colab_link": true
    },
    "kernelspec": {
      "name": "python3",
      "display_name": "Python 3"
    }
  },
  "cells": [
    {
      "cell_type": "markdown",
      "metadata": {
        "id": "view-in-github",
        "colab_type": "text"
      },
      "source": [
        "<a href=\"https://colab.research.google.com/github/QeyCoder/WhatsApp-Chat-Analysis/blob/master/Chat_Analysis.ipynb\" target=\"_parent\"><img src=\"https://colab.research.google.com/assets/colab-badge.svg\" alt=\"Open In Colab\"/></a>"
      ]
    },
    {
      "cell_type": "code",
      "metadata": {
        "id": "-dFGpoNZ9Qjl",
        "colab_type": "code",
        "colab": {}
      },
      "source": [
        "!pip install -U -q PyDrive"
      ],
      "execution_count": 0,
      "outputs": []
    },
    {
      "cell_type": "code",
      "metadata": {
        "id": "rNed3tdU--2r",
        "colab_type": "code",
        "colab": {}
      },
      "source": [
        "# from pydrive.auth import GoogleAuth\n",
        "# from pydrive.drive import GoogleDrive\n",
        "# from google.colab import auth\n",
        "# from oauth2client.client import GoogleCredentials"
      ],
      "execution_count": 0,
      "outputs": []
    },
    {
      "cell_type": "markdown",
      "metadata": {
        "id": "ytcMWbTi3Y8L",
        "colab_type": "text"
      },
      "source": [
        "**Uncomment the codes to download the file from google drive **"
      ]
    },
    {
      "cell_type": "code",
      "metadata": {
        "id": "XTRDli_D_Bj0",
        "colab_type": "code",
        "colab": {}
      },
      "source": [
        "# auth.authenticate_user()\n",
        "# gauth = GoogleAuth()"
      ],
      "execution_count": 0,
      "outputs": []
    },
    {
      "cell_type": "code",
      "metadata": {
        "id": "2I-Jry7e_EKu",
        "colab_type": "code",
        "colab": {}
      },
      "source": [
        "# gauth.credentials = GoogleCredentials.get_application_default()\n",
        "# drive = GoogleDrive(gauth)"
      ],
      "execution_count": 0,
      "outputs": []
    },
    {
      "cell_type": "code",
      "metadata": {
        "id": "42At2wbg_Mu0",
        "colab_type": "code",
        "colab": {}
      },
      "source": [
        ""
      ],
      "execution_count": 0,
      "outputs": []
    },
    {
      "cell_type": "code",
      "metadata": {
        "id": "gHwf75oE_iAS",
        "colab_type": "code",
        "colab": {}
      },
      "source": [
        "# fluff, id = link.split('=')"
      ],
      "execution_count": 0,
      "outputs": []
    },
    {
      "cell_type": "code",
      "metadata": {
        "id": "1tYF6B-3_kZi",
        "colab_type": "code",
        "colab": {}
      },
      "source": [
        "# import pandas as pd\n",
        "# downloaded = drive.CreateFile({'id':id}) \n",
        "# downloaded.GetContentFile('Filename.csv')  \n"
      ],
      "execution_count": 0,
      "outputs": []
    },
    {
      "cell_type": "code",
      "metadata": {
        "id": "UEmJnOqqAmpw",
        "colab_type": "code",
        "colab": {}
      },
      "source": [
        "# df = pd.read_csv('Filename.csv', header=None,error_bad_lines=False)"
      ],
      "execution_count": 0,
      "outputs": []
    },
    {
      "cell_type": "code",
      "metadata": {
        "id": "7-oI9H-8Akib",
        "colab_type": "code",
        "colab": {
          "base_uri": "https://localhost:8080/",
          "height": 164
        },
        "outputId": "0794496f-28fc-4656-9b62-e56dfc175058"
      },
      "source": [
        "# df3.info()"
      ],
      "execution_count": 7,
      "outputs": [
        {
          "output_type": "error",
          "ename": "NameError",
          "evalue": "ignored",
          "traceback": [
            "\u001b[0;31m---------------------------------------------------------------------------\u001b[0m",
            "\u001b[0;31mNameError\u001b[0m                                 Traceback (most recent call last)",
            "\u001b[0;32m<ipython-input-7-f06a64702c91>\u001b[0m in \u001b[0;36m<module>\u001b[0;34m()\u001b[0m\n\u001b[0;32m----> 1\u001b[0;31m \u001b[0mdf3\u001b[0m\u001b[0;34m.\u001b[0m\u001b[0minfo\u001b[0m\u001b[0;34m(\u001b[0m\u001b[0;34m)\u001b[0m\u001b[0;34m\u001b[0m\u001b[0;34m\u001b[0m\u001b[0m\n\u001b[0m",
            "\u001b[0;31mNameError\u001b[0m: name 'df3' is not defined"
          ]
        }
      ]
    },
    {
      "cell_type": "code",
      "metadata": {
        "id": "vrzrAlsj_0-V",
        "colab_type": "code",
        "colab": {}
      },
      "source": [
        "#df.tail()"
      ],
      "execution_count": 0,
      "outputs": []
    },
    {
      "cell_type": "code",
      "metadata": {
        "id": "wp54Y8s4_wzt",
        "colab_type": "code",
        "colab": {}
      },
      "source": [
        "#Data Clean"
      ],
      "execution_count": 0,
      "outputs": []
    },
    {
      "cell_type": "code",
      "metadata": {
        "id": "gwdAH-Nb_RXH",
        "colab_type": "code",
        "colab": {}
      },
      "source": [
        "import regex as re\n",
        "def checkForDateTime(inputMessage):\n",
        "  pattern='^([0-2][0-9]|(3)[0-1])(\\/)(((0)[0-9])|((1)[0-2]))(\\/)(\\d{2}|\\d{4}),\\s([0-9]{0,1}[0-9]):([0-9][0-9])'\n",
        "  result = re.match(pattern,inputMessage)\n",
        "  if result:\n",
        "    return True\n",
        "  return False \n",
        "\n"
      ],
      "execution_count": 0,
      "outputs": []
    },
    {
      "cell_type": "code",
      "metadata": {
        "id": "KRha0OdrDroH",
        "colab_type": "code",
        "colab": {}
      },
      "source": [
        "def findAuthor(inputMessage):\n",
        "\n",
        "  pattern=  patterns = [\n",
        "        '([\\w]+)\\s*:',                        # First Name\n",
        "        '([\\w]+[\\s]+[\\w]+):',              # First Name + Last Name\n",
        "        '([\\w]+[\\s]+[\\w]+[\\s]+[\\w]+):',    # First Name + Middle Name + Last Name\n",
        "        '([+]\\d{2} \\d{5} \\d{5}):',         # Mobile Number (India)\n",
        "        '([+]\\d{2} \\d{3} \\d{3} \\d{4}):',   # Mobile Number (US)\n",
        "        '([+]\\d{2} \\d{4} \\d{7})'           # Mobile Number (Europe)\n",
        "    ]\n",
        "  pattern = '^' + '|'.join(patterns)\n",
        "  result = re.match(pattern, inputMessage)\n",
        "  if result:\n",
        "        return True\n",
        "  return False"
      ],
      "execution_count": 0,
      "outputs": []
    },
    {
      "cell_type": "code",
      "metadata": {
        "id": "Q_mwTq27_OU9",
        "colab_type": "code",
        "colab": {}
      },
      "source": [
        "def findDataPoint(line):\n",
        "  line= line.encode('ascii', 'ignore').decode('ascii')\n",
        "  splitedLine = line.split(\" - \")\n",
        "  dateTime=splitedLine[0]\n",
        "  date,time= dateTime.split(\", \")\n",
        "  message = ' '.join(splitedLine[1:])\n",
        "  if findAuthor(message):\n",
        "    splittedMessage = message.split(': ')\n",
        "    author= splittedMessage[0]\n",
        "    message=' '.join(splittedMessage[1:])\n",
        "  else:\n",
        "    author=None\n",
        "  return date,time,author,message    \n",
        "                \n"
      ],
      "execution_count": 0,
      "outputs": []
    },
    {
      "cell_type": "code",
      "metadata": {
        "id": "cnrRPxRCFyWg",
        "colab_type": "code",
        "colab": {}
      },
      "source": [
        "parsedData = [] \n",
        "conversationPath = 'Filename.csv' \n",
        "with open(conversationPath, encoding=\"utf-8\") as fp:\n",
        "    fp.readline()\n",
        "        \n",
        "    messageBuffer = [] \n",
        "    date, time, author = None, None, None \n",
        "    \n",
        "    while True:\n",
        "        line = fp.readline() \n",
        "        if not line: \n",
        "            break\n",
        "        line = line.strip() \n",
        "        if checkForDateTime(line): \n",
        "            if len(messageBuffer) > 0:\n",
        "                parsedData.append([date, time, author, ' '.join(messageBuffer)])\n",
        "            messageBuffer.clear() \n",
        "            date, time, author, message = findDataPoint(line)\n",
        "            messageBuffer.append(message) \n",
        "        else:\n",
        "            messageBuffer.append(line) \n",
        "     "
      ],
      "execution_count": 0,
      "outputs": []
    },
    {
      "cell_type": "code",
      "metadata": {
        "id": "BMCVyne5K7Rb",
        "colab_type": "code",
        "colab": {}
      },
      "source": [
        "df = pd.DataFrame(parsedData, columns=['Date', 'Time', 'Author', 'Message'])"
      ],
      "execution_count": 0,
      "outputs": []
    },
    {
      "cell_type": "code",
      "metadata": {
        "id": "9_RoXpCqFxCV",
        "colab_type": "code",
        "colab": {}
      },
      "source": [
        ""
      ],
      "execution_count": 0,
      "outputs": []
    },
    {
      "cell_type": "code",
      "metadata": {
        "id": "-sFz-cE_eGr9",
        "colab_type": "code",
        "colab": {}
      },
      "source": [
        "author_count =df.Author.value_counts()\n",
        "top_10_author_val_count =author_count.head(10)\n",
        "# top_10_author_val_count.plot.barh()\n"
      ],
      "execution_count": 0,
      "outputs": []
    },
    {
      "cell_type": "code",
      "metadata": {
        "id": "UK48Kolxe4-a",
        "colab_type": "code",
        "colab": {}
      },
      "source": [
        "media_messages_df = df[df['Message'] == '<Media omitted>']"
      ],
      "execution_count": 0,
      "outputs": []
    },
    {
      "cell_type": "code",
      "metadata": {
        "id": "H0idFpewfbJN",
        "colab_type": "code",
        "colab": {}
      },
      "source": [
        " clean_Media_df = df.drop(media_messages_df.index)"
      ],
      "execution_count": 0,
      "outputs": []
    },
    {
      "cell_type": "code",
      "metadata": {
        "id": "nsXwPrkegDP4",
        "colab_type": "code",
        "colab": {}
      },
      "source": [
        "# clean_Media_df.tail()"
      ],
      "execution_count": 0,
      "outputs": []
    },
    {
      "cell_type": "code",
      "metadata": {
        "id": "Ft3qQJ7ngFkO",
        "colab_type": "code",
        "colab": {}
      },
      "source": [
        "cleaned_author =clean_Media_df.drop(df[df['Author'].isnull()].index)"
      ],
      "execution_count": 0,
      "outputs": []
    },
    {
      "cell_type": "code",
      "metadata": {
        "id": "mBdd2fuDgZFR",
        "colab_type": "code",
        "colab": {}
      },
      "source": [
        "supr_clean_msg = cleaned_author.drop(cleaned_author[cleaned_author['Message']==\"Waiting for this message\"].index)"
      ],
      "execution_count": 0,
      "outputs": []
    },
    {
      "cell_type": "code",
      "metadata": {
        "id": "QgFjUQ8iguBP",
        "colab_type": "code",
        "colab": {}
      },
      "source": [
        "supr_clean_msg['Letter_count']= supr_clean_msg['Message'].apply(lambda s: len(s))\n",
        "supr_clean_msg['Word_count']= supr_clean_msg['Message'].apply(lambda s: len(s.split(' ')))"
      ],
      "execution_count": 0,
      "outputs": []
    },
    {
      "cell_type": "code",
      "metadata": {
        "id": "F8GuRUX3gflB",
        "colab_type": "code",
        "colab": {}
      },
      "source": [
        "author_count =supr_clean_msg.Author.value_counts()\n",
        "top_10_author_val_count =author_count.head(10)\n",
        "# top_10_author_val_count.plot.barh()\n"
      ],
      "execution_count": 0,
      "outputs": []
    },
    {
      "cell_type": "code",
      "metadata": {
        "id": "d4hCsTgxgPhc",
        "colab_type": "code",
        "colab": {}
      },
      "source": [
        "supr_clean_msg[['Date','Author','Message','Time']].describe()"
      ],
      "execution_count": 0,
      "outputs": []
    },
    {
      "cell_type": "code",
      "metadata": {
        "id": "S5munLZsgK7y",
        "colab_type": "code",
        "colab": {}
      },
      "source": [
        "supr_clean_msg[['Letter_count','Word_count']].describe()"
      ],
      "execution_count": 0,
      "outputs": []
    },
    {
      "cell_type": "code",
      "metadata": {
        "id": "GDom2tPlf_ht",
        "colab_type": "code",
        "colab": {}
      },
      "source": [
        "supr_clean_msg['Date'].value_counts().head(10).plot.barh() "
      ],
      "execution_count": 0,
      "outputs": []
    },
    {
      "cell_type": "code",
      "metadata": {
        "id": "2gHVS5Miiv35",
        "colab_type": "code",
        "colab": {}
      },
      "source": [
        "supr_clean_msg['Time'].value_counts().head(10).plot.barh() "
      ],
      "execution_count": 0,
      "outputs": []
    },
    {
      "cell_type": "code",
      "metadata": {
        "id": "Z2Br0ZijfDgx",
        "colab_type": "code",
        "colab": {}
      },
      "source": [
        ""
      ],
      "execution_count": 0,
      "outputs": []
    },
    {
      "cell_type": "code",
      "metadata": {
        "id": "Of1l2hjzb8SX",
        "colab_type": "code",
        "colab": {}
      },
      "source": [
        "from collections import Counter\n",
        "x = Counter(\" \".join(supr_clean_msg[\"Message\"]).lower().split()).most_common(200)\n"
      ],
      "execution_count": 0,
      "outputs": []
    },
    {
      "cell_type": "code",
      "metadata": {
        "id": "FzxmNLz4lxEq",
        "colab_type": "code",
        "colab": {}
      },
      "source": [
        "# pd.DataFrame(x).sample(20)"
      ],
      "execution_count": 0,
      "outputs": []
    },
    {
      "cell_type": "code",
      "metadata": {
        "id": "ikuXotMunGiT",
        "colab_type": "code",
        "colab": {}
      },
      "source": [
        "\n",
        "import matplotlib.pyplot as plt\n",
        "from wordcloud import WordCloud\n",
        "\n",
        "wordcloud = WordCloud(width=800, height=400,max_font_size=100, max_words=50, background_color=\"white\")\n",
        "series=supr_clean_msg['Message'].value_counts()\n",
        "wordcloud.generate_from_frequencies(frequencies=series.to_dict())\n",
        "plt.figure( figsize=(20,10) )\n",
        "plt.imshow(wordcloud, interpolation=\"bilinear\")\n",
        "plt.axis(\"off\")\n",
        "plt.show()"
      ],
      "execution_count": 0,
      "outputs": []
    }
  ]
}